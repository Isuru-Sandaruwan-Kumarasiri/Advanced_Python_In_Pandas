{
 "cells": [
  {
   "cell_type": "markdown",
   "id": "faf6a68a",
   "metadata": {},
   "source": [
    "# Lab 2 - Advanced Python"
   ]
  },
  {
   "cell_type": "raw",
   "id": "5e96102c",
   "metadata": {},
   "source": [
    "Expected Outcomes:\n",
    "By the end of this lab, students should be able to:\n",
    "• Perform data cleaning, filtering, and aggregation using Pandas.\n",
    "• Implement advanced numerical computations with NumPy.\n",
    "• Create insightful visualizations using Matplotlib.\n",
    "This structured lab should take approximately 2 hours, covering all essential aspects of Pandas, NumPy, and Matplotlib in an advanced Python setting\n"
   ]
  },
  {
   "cell_type": "markdown",
   "id": "41e5b435",
   "metadata": {},
   "source": [
    "# Data Cleaning & Manipulation"
   ]
  },
  {
   "cell_type": "code",
   "execution_count": 4,
   "id": "7a9ad691",
   "metadata": {},
   "outputs": [],
   "source": [
    "import pandas as pd\n",
    "import numpy as np\n",
    "import matplotlib.pyplot as plt\n",
    "import seaborn as sns"
   ]
  },
  {
   "cell_type": "markdown",
   "id": "6ac63fea",
   "metadata": {},
   "source": [
    "1.Load the dataset and convert the Formatted Date column into a proper datetime format."
   ]
  },
  {
   "cell_type": "code",
   "execution_count": 1,
   "id": "79a2600a",
   "metadata": {},
   "outputs": [],
   "source": [
    "##answer code"
   ]
  },
  {
   "cell_type": "markdown",
   "id": "5cb04cf5",
   "metadata": {},
   "source": [
    "2.Fill missing values in the Precip Type column with the most frequent value."
   ]
  },
  {
   "cell_type": "code",
   "execution_count": 2,
   "id": "1bcab591",
   "metadata": {},
   "outputs": [],
   "source": [
    "##answer code"
   ]
  },
  {
   "cell_type": "markdown",
   "id": "7d98d974",
   "metadata": {},
   "source": [
    "3.Create a new column Temperature (F) that converts Temperature (C) to Fahrenheit."
   ]
  },
  {
   "cell_type": "code",
   "execution_count": 3,
   "id": "456791b8",
   "metadata": {},
   "outputs": [],
   "source": [
    "##answer code"
   ]
  },
  {
   "cell_type": "markdown",
   "id": "0fd35086",
   "metadata": {},
   "source": [
    "4.Extract the year and month from the Formatted Date column and create separate columns for them."
   ]
  },
  {
   "cell_type": "code",
   "execution_count": null,
   "id": "4f0b75df",
   "metadata": {},
   "outputs": [],
   "source": []
  },
  {
   "cell_type": "markdown",
   "id": "1318ee2d",
   "metadata": {},
   "source": [
    "5.Group the data by year and find the average temperature for each year."
   ]
  },
  {
   "cell_type": "code",
   "execution_count": null,
   "id": "7ae18861",
   "metadata": {},
   "outputs": [],
   "source": []
  },
  {
   "cell_type": "markdown",
   "id": "cf8fa737",
   "metadata": {},
   "source": [
    "# Data Filtering & Analysis"
   ]
  },
  {
   "cell_type": "markdown",
   "id": "b0f20e77",
   "metadata": {},
   "source": [
    "6.Find the month with the highest average humidity"
   ]
  },
  {
   "cell_type": "code",
   "execution_count": null,
   "id": "e4d32781",
   "metadata": {},
   "outputs": [],
   "source": []
  },
  {
   "cell_type": "markdown",
   "id": "fec9640a",
   "metadata": {},
   "source": [
    "7.Identify the top 5 windiest days based on Wind Speed (km/h)."
   ]
  },
  {
   "cell_type": "code",
   "execution_count": null,
   "id": "d5e454cf",
   "metadata": {},
   "outputs": [],
   "source": []
  },
  {
   "cell_type": "markdown",
   "id": "be9f8635",
   "metadata": {},
   "source": [
    "8.Filter the dataset to include only records where the temperature is below freezing (0°C)."
   ]
  },
  {
   "cell_type": "code",
   "execution_count": null,
   "id": "d4ecfd54",
   "metadata": {},
   "outputs": [],
   "source": []
  },
  {
   "cell_type": "markdown",
   "id": "6541b291",
   "metadata": {},
   "source": [
    "9.Find the date with the lowest visibility and report the weather summary for that day."
   ]
  },
  {
   "cell_type": "code",
   "execution_count": null,
   "id": "5b3291fb",
   "metadata": {},
   "outputs": [],
   "source": []
  },
  {
   "cell_type": "markdown",
   "id": "2943339c",
   "metadata": {},
   "source": [
    "10.Calculate and plot the correlation matrix between numerical features in the dataset."
   ]
  },
  {
   "cell_type": "code",
   "execution_count": null,
   "id": "efb77662",
   "metadata": {},
   "outputs": [],
   "source": []
  },
  {
   "cell_type": "markdown",
   "id": "232b8037",
   "metadata": {},
   "source": [
    "# Numerical Operations"
   ]
  },
  {
   "cell_type": "markdown",
   "id": "a6bea620",
   "metadata": {},
   "source": [
    "11.Convert the Temperature (C) column into a NumPy array and compute the mean and standard deviation."
   ]
  },
  {
   "cell_type": "code",
   "execution_count": null,
   "id": "79b49d67",
   "metadata": {},
   "outputs": [],
   "source": []
  },
  {
   "cell_type": "markdown",
   "id": "4852a267",
   "metadata": {},
   "source": [
    "12.Normalize the Humidity column using Min-Max scaling with NumPy."
   ]
  },
  {
   "cell_type": "code",
   "execution_count": null,
   "id": "c1f32775",
   "metadata": {},
   "outputs": [],
   "source": []
  },
  {
   "cell_type": "markdown",
   "id": "49fd9d74",
   "metadata": {},
   "source": [
    "13.Create a 2D NumPy array from Wind Speed (km/h) and Wind Bearing (degrees), then find the row with the maximum wind speed."
   ]
  },
  {
   "cell_type": "code",
   "execution_count": null,
   "id": "7c89aa4b",
   "metadata": {},
   "outputs": [],
   "source": []
  },
  {
   "cell_type": "markdown",
   "id": "bd3c5469",
   "metadata": {},
   "source": [
    "14.Perform element-wise multiplication of Temperature (C) and Humidity using NumPy.|"
   ]
  },
  {
   "cell_type": "code",
   "execution_count": null,
   "id": "dc788103",
   "metadata": {},
   "outputs": [],
   "source": []
  },
  {
   "cell_type": "markdown",
   "id": "a3d5854b",
   "metadata": {},
   "source": [
    "# Simulations & Mathematical Operations"
   ]
  },
  {
   "cell_type": "markdown",
   "id": "ed00c8db",
   "metadata": {},
   "source": [
    "16.Simulate a new dataset with random temperature values (between -10°C and 40°C) for 1000 days using NumPy."
   ]
  },
  {
   "cell_type": "code",
   "execution_count": null,
   "id": "0859f397",
   "metadata": {},
   "outputs": [],
   "source": []
  },
  {
   "cell_type": "markdown",
   "id": "da701a8e",
   "metadata": {},
   "source": [
    "17.Apply a linear transformation to Visibility (km) using the function: new_visibility = 2.5 * old_visibility + 5."
   ]
  },
  {
   "cell_type": "code",
   "execution_count": null,
   "id": "6249e4d4",
   "metadata": {},
   "outputs": [],
   "source": []
  },
  {
   "cell_type": "markdown",
   "id": "58b1726a",
   "metadata": {},
   "source": [
    "19.Generate a synthetic dataset of wind speeds following a normal distribution (mean = 10 km/h, std = 5 km/h) for 1000 values."
   ]
  },
  {
   "cell_type": "code",
   "execution_count": null,
   "id": "29adc560",
   "metadata": {},
   "outputs": [],
   "source": []
  },
  {
   "cell_type": "markdown",
   "id": "0368fb68",
   "metadata": {},
   "source": [
    "20.Solve a linear equation system using NumPy’s linalg.solve with weather-related coefficients."
   ]
  },
  {
   "cell_type": "code",
   "execution_count": null,
   "id": "7f6e9e9e",
   "metadata": {},
   "outputs": [],
   "source": []
  },
  {
   "cell_type": "markdown",
   "id": "712e4ec4",
   "metadata": {},
   "source": [
    "# Data Visualization"
   ]
  },
  {
   "cell_type": "markdown",
   "id": "73ec4301",
   "metadata": {},
   "source": [
    "21.Plot a time series graph showing Temperature (C) variation over the years."
   ]
  },
  {
   "cell_type": "code",
   "execution_count": null,
   "id": "a9c52f4d",
   "metadata": {},
   "outputs": [],
   "source": []
  },
  {
   "cell_type": "markdown",
   "id": "c969e6a5",
   "metadata": {},
   "source": [
    "22.Create a scatter plot of Humidity vs. Temperature (C)."
   ]
  },
  {
   "cell_type": "code",
   "execution_count": null,
   "id": "1ab99a7a",
   "metadata": {},
   "outputs": [],
   "source": []
  },
  {
   "cell_type": "markdown",
   "id": "35cdbd19",
   "metadata": {},
   "source": [
    "23.Generate a histogram of Wind Speed (km/h) with 20 bins"
   ]
  },
  {
   "cell_type": "code",
   "execution_count": null,
   "id": "f5c18505",
   "metadata": {},
   "outputs": [],
   "source": []
  },
  {
   "cell_type": "markdown",
   "id": "4baac622",
   "metadata": {},
   "source": [
    "24.Create a bar chart comparing average monthly temperatures."
   ]
  },
  {
   "cell_type": "code",
   "execution_count": null,
   "id": "005460a0",
   "metadata": {},
   "outputs": [],
   "source": []
  },
  {
   "cell_type": "markdown",
   "id": "5b9982a2",
   "metadata": {},
   "source": [
    "25.Plot a box plot for Visibility (km) grouped by Precip Type."
   ]
  },
  {
   "cell_type": "code",
   "execution_count": null,
   "id": "b4f579f9",
   "metadata": {},
   "outputs": [],
   "source": []
  }
 ],
 "metadata": {
  "kernelspec": {
   "display_name": "Python 3 (ipykernel)",
   "language": "python",
   "name": "python3"
  },
  "language_info": {
   "codemirror_mode": {
    "name": "ipython",
    "version": 3
   },
   "file_extension": ".py",
   "mimetype": "text/x-python",
   "name": "python",
   "nbconvert_exporter": "python",
   "pygments_lexer": "ipython3",
   "version": "3.9.13"
  }
 },
 "nbformat": 4,
 "nbformat_minor": 5
}
